{
  "nbformat": 4,
  "nbformat_minor": 0,
  "metadata": {
    "colab": {
      "provenance": [],
      "authorship_tag": "ABX9TyOsFpc+fSiUDJqWsscFqT5U",
      "include_colab_link": true
    },
    "kernelspec": {
      "name": "python3",
      "display_name": "Python 3"
    },
    "language_info": {
      "name": "python"
    }
  },
  "cells": [
    {
      "cell_type": "markdown",
      "metadata": {
        "id": "view-in-github",
        "colab_type": "text"
      },
      "source": [
        "<a href=\"https://colab.research.google.com/github/salemprakash/EDA/blob/main/test.ipynb\" target=\"_parent\"><img src=\"https://colab.research.google.com/assets/colab-badge.svg\" alt=\"Open In Colab\"/></a>"
      ]
    },
    {
      "cell_type": "code",
      "execution_count": 1,
      "metadata": {
        "colab": {
          "base_uri": "https://localhost:8080/"
        },
        "id": "nFPXHQIGHLrC",
        "outputId": "8331ae31-f63d-433a-ef49-862e9e57d56c"
      },
      "outputs": [
        {
          "output_type": "stream",
          "name": "stdout",
          "text": [
            "Collecting faker\n",
            "  Downloading Faker-26.0.0-py3-none-any.whl (1.8 MB)\n",
            "\u001b[2K     \u001b[90m━━━━━━━━━━━━━━━━━━━━━━━━━━━━━━━━━━━━━━━━\u001b[0m \u001b[32m1.8/1.8 MB\u001b[0m \u001b[31m16.2 MB/s\u001b[0m eta \u001b[36m0:00:00\u001b[0m\n",
            "\u001b[?25hRequirement already satisfied: python-dateutil>=2.4 in /usr/local/lib/python3.10/dist-packages (from faker) (2.8.2)\n",
            "Requirement already satisfied: six>=1.5 in /usr/local/lib/python3.10/dist-packages (from python-dateutil>=2.4->faker) (1.16.0)\n",
            "Installing collected packages: faker\n",
            "Successfully installed faker-26.0.0\n",
            "Collecting radar\n",
            "  Downloading radar-0.3.tar.gz (4.5 kB)\n",
            "  Preparing metadata (setup.py) ... \u001b[?25l\u001b[?25hdone\n",
            "Building wheels for collected packages: radar\n",
            "  Building wheel for radar (setup.py) ... \u001b[?25l\u001b[?25hdone\n",
            "  Created wheel for radar: filename=radar-0.3-py3-none-any.whl size=4989 sha256=d1744be088d57084c270c5f46112ba858ba43ac61c249c13ed9618b4f910096d\n",
            "  Stored in directory: /root/.cache/pip/wheels/b5/73/ec/597d19e0d44507094a8ce35e41b21f9e71bb599ba37491d4e0\n",
            "Successfully built radar\n",
            "Installing collected packages: radar\n",
            "Successfully installed radar-0.3\n"
          ]
        }
      ],
      "source": [
        "!pip install faker\n",
        "!pip install radar"
      ]
    },
    {
      "cell_type": "code",
      "source": [
        "from faker import Faker\n",
        "fake = Faker()"
      ],
      "metadata": {
        "id": "nVA10RubHqRX"
      },
      "execution_count": 2,
      "outputs": []
    },
    {
      "cell_type": "code",
      "source": [
        "import datetime\n",
        "import math\n",
        "import pandas as pd\n",
        "import random\n",
        "import radar"
      ],
      "metadata": {
        "id": "eVA2b8vXIH0Y"
      },
      "execution_count": 3,
      "outputs": []
    }
  ]
}