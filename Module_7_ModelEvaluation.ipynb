{
  "nbformat": 4,
  "nbformat_minor": 0,
  "metadata": {
    "colab": {
      "provenance": [],
      "authorship_tag": "ABX9TyPfKxthWLmsSiYr6B1+ZWAy",
      "include_colab_link": true
    },
    "kernelspec": {
      "name": "python3",
      "display_name": "Python 3"
    },
    "language_info": {
      "name": "python"
    }
  },
  "cells": [
    {
      "cell_type": "markdown",
      "metadata": {
        "id": "view-in-github",
        "colab_type": "text"
      },
      "source": [
        "<a href=\"https://colab.research.google.com/github/salemprakash/EDA/blob/main/Module_7_ModelEvaluation.ipynb\" target=\"_parent\"><img src=\"https://colab.research.google.com/assets/colab-badge.svg\" alt=\"Open In Colab\"/></a>"
      ]
    },
    {
      "cell_type": "markdown",
      "source": [
        "27 March 2025\n",
        "#Module 7\n",
        "Model Development and Evaluation\n"
      ],
      "metadata": {
        "id": "1qVVHL1rWrTD"
      }
    },
    {
      "cell_type": "markdown",
      "source": [
        "#Types of regression\n",
        "Simple linear regression\n",
        "* Linear regression, which is also called simple linear regression, defines the relationship between two variables using a straight line.\n",
        "![Untitled.png](data:image/png;base64,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)\n",
        "\n",
        "Multiple linear regression\n",
        "* In the case of multiple linear regression, two more independent variables or explanatory variables show a linear relationship with the target or dependent variables.\n",
        "\n",
        "![Untitled-1.png](data:image/png;base64,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)"
      ],
      "metadata": {
        "id": "7vPsvdAQraBd"
      }
    },
    {
      "cell_type": "markdown",
      "source": [
        "##Constructing a linear regression model"
      ],
      "metadata": {
        "id": "Y64DUShvsW3N"
      }
    },
    {
      "cell_type": "code",
      "source": [
        "# Importing the necessary libraries\n",
        "import pandas as pd\n",
        "import numpy as np\n",
        "import matplotlib.pyplot as plt\n",
        "import seaborn as sns"
      ],
      "metadata": {
        "id": "ODCHFvvQsYWa"
      },
      "execution_count": null,
      "outputs": []
    },
    {
      "cell_type": "code",
      "source": [
        "from sklearn.datasets import fetch_california_housing\n",
        "housing = fetch_california_housing()\n",
        "sns.set(style=\"ticks\", color_codes=True)\n",
        "plt.rcParams['figure.figsize'] = (8,5)\n",
        "plt.rcParams['figure.dpi'] = 150"
      ],
      "metadata": {
        "id": "VDhKKNgXsh3Q"
      },
      "execution_count": null,
      "outputs": []
    },
    {
      "cell_type": "code",
      "source": [
        "# loading the data\n",
        "df = pd.read_csv(\"https://raw.githubusercontent.com/selva86/datasets/refs/heads/master/BostonHousing.csv\")"
      ],
      "metadata": {
        "id": "A2YEcwFqsq3o"
      },
      "execution_count": null,
      "outputs": []
    },
    {
      "cell_type": "code",
      "source": [
        "#Now, we have the dataset loaded into the boston variable. We can look at the keys of the dataframe as follows:\n",
        "print(df.keys())"
      ],
      "metadata": {
        "id": "LEDSpKrct40a"
      },
      "execution_count": null,
      "outputs": []
    },
    {
      "cell_type": "code",
      "source": [
        "#Now that our data is loaded, let's get our DataFrame ready quickly and work ahead:\n",
        "df.head()\n",
        "# print the columns present in the dataset\n",
        "print(df.columns)\n",
        "# print the top 5 rows in the dataset\n",
        "print(df.head())"
      ],
      "metadata": {
        "id": "eloyg3ZLuDut"
      },
      "execution_count": null,
      "outputs": []
    },
    {
      "cell_type": "code",
      "source": [
        "#In the new overall dataframe, let's check if we have any missing values:\n",
        "df.isna().sum()"
      ],
      "metadata": {
        "id": "aU-f_6scuNEn"
      },
      "execution_count": null,
      "outputs": []
    },
    {
      "cell_type": "code",
      "source": [
        "#plotting heatmap for overall data set\n",
        "sns.heatmap(df.corr(), square=True, cmap='RdYlGn')"
      ],
      "metadata": {
        "id": "ky-kYZRzuUXF"
      },
      "execution_count": null,
      "outputs": []
    },
    {
      "cell_type": "code",
      "source": [
        "#We can use the lmplot 6. method from seaborn to see the relationship between RM and MEDV. Check out the following snippet:\n",
        "sns.lmplot(x = 'rm', y = 'medv', data = df)"
      ],
      "metadata": {
        "id": "SKjSc3d5uc99"
      },
      "execution_count": null,
      "outputs": []
    },
    {
      "cell_type": "code",
      "source": [
        "#Scikit-learn needs to create features and target variables in arrays, so be careful when assigning columns to X and y:\n",
        "# Preparing the data\n",
        "X = df[['rm']]\n",
        "y = df[['medv']]"
      ],
      "metadata": {
        "id": "HMrqeiSuuumr"
      },
      "execution_count": null,
      "outputs": []
    },
    {
      "cell_type": "code",
      "source": [
        "# Splitting the dataset into train and test sets\n",
        "from sklearn.model_selection import train_test_split\n",
        "X_train, X_test, y_train, y_test = train_test_split(X, y, test_size = 0.3, random_state = 10)"
      ],
      "metadata": {
        "id": "6zhbvOn2u4S2"
      },
      "execution_count": null,
      "outputs": []
    },
    {
      "cell_type": "code",
      "source": [
        "#Now the final step is training the linear regression model. From the extremely powerful sklearn library, we import the LinearRegression() function to fit\n",
        "#our training dataset to the model. When we run LinearRegression().fit(), the function automatically calculates the OLS, which we discussed earlier, and\n",
        "#generates an appropriate line function:\n",
        "#Training a Linear Regression Model\n",
        "from sklearn.linear_model import LinearRegression\n",
        "regressor = LinearRegression()\n",
        "# Fitting the training data to our model\n",
        "regressor.fit(X_train, y_train)"
      ],
      "metadata": {
        "id": "4lLtGEPgu-97"
      },
      "execution_count": null,
      "outputs": []
    },
    {
      "cell_type": "code",
      "source": [
        "#Model evaluation\n",
        "#R^2 can be determined using our test dataset in the LinearRegression.score() method:\n",
        "#check prediction score/accuracy\n",
        "regressor.score(X_test, y_test)"
      ],
      "metadata": {
        "id": "xKFQrrJHvNBN"
      },
      "execution_count": null,
      "outputs": []
    },
    {
      "cell_type": "code",
      "source": [
        "#Before that, let's predict the y values with our model and evaluate it more. And a target variables DataFrame is also built:\n",
        "# predict the y values\n",
        "y_pred=regressor.predict(X_test)\n",
        "# a data frame with actual and predicted values of y\n",
        "evaluate = pd.DataFrame({'Actual': y_test.values.flatten(),\n",
        "'Predicted': y_pred.flatten()})\n",
        "evaluate.head(10)"
      ],
      "metadata": {
        "id": "NYyb9FVbvfax"
      },
      "execution_count": null,
      "outputs": []
    },
    {
      "cell_type": "code",
      "source": [
        "#The preceding screenshot shows the difference between the actual values and the predicted values. We can see them if we plot them:\n",
        "evaluate.head(10).plot(kind = 'bar')"
      ],
      "metadata": {
        "id": "KbDEPiZzvo1i"
      },
      "execution_count": null,
      "outputs": []
    },
    {
      "cell_type": "code",
      "source": [
        "#Computing accuracy\n",
        "# Scoring the model\n",
        "from sklearn.metrics import r2_score, mean_squared_error, mean_absolute_error\n",
        "# R2 Score\n",
        "print(f\"R2 score: {r2_score(y_test, y_pred)}\")\n",
        "# Mean Absolute Error (MAE)\n",
        "print(f\"MAE score: {mean_absolute_error(y_test, y_pred)}\")\n",
        "# Mean Squared Error (MSE)\n",
        "print(f\"MSE score: {mean_squared_error(y_test, y_pred)}\")"
      ],
      "metadata": {
        "id": "o7HlzI8Pvwio"
      },
      "execution_count": null,
      "outputs": []
    }
  ]
}